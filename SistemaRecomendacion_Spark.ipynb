{
  "nbformat": 4,
  "nbformat_minor": 0,
  "metadata": {
    "colab": {
      "provenance": [],
      "gpuType": "T4"
    },
    "kernelspec": {
      "name": "python3",
      "display_name": "Python 3"
    },
    "language_info": {
      "name": "python"
    }
  },
  "cells": [
    {
      "cell_type": "markdown",
      "metadata": {
        "id": "view-in-github"
      },
      "source": [
        "<a href=\"https://colab.research.google.com/github/dantetarraga/Spark-movie_Recommendation/blob/main/spark_movie-recommendation.ipynb\" target=\"_parent\"><img src=\"https://colab.research.google.com/assets/colab-badge.svg\" alt=\"Open In Colab\"/></a>"
      ]
    },
    {
      "cell_type": "markdown",
      "source": [
        "## Librerias a usar"
      ],
      "metadata": {
        "id": "9S2VYSAGS-SZ"
      }
    },
    {
      "cell_type": "code",
      "source": [
        "!pip install pyspark"
      ],
      "metadata": {
        "colab": {
          "base_uri": "https://localhost:8080/"
        },
        "id": "vubi6W3jN-iH",
        "outputId": "cd72a873-4788-4d83-ae84-d80c22594631"
      },
      "execution_count": 46,
      "outputs": [
        {
          "output_type": "stream",
          "name": "stdout",
          "text": [
            "Requirement already satisfied: pyspark in /usr/local/lib/python3.10/dist-packages (3.5.1)\n",
            "Requirement already satisfied: py4j==0.10.9.7 in /usr/local/lib/python3.10/dist-packages (from pyspark) (0.10.9.7)\n"
          ]
        }
      ]
    },
    {
      "cell_type": "code",
      "source": [
        "from pyspark.sql import SparkSession\n",
        "from pyspark.ml.recommendation import ALS\n",
        "from pyspark.ml.evaluation import RegressionEvaluator\n",
        "from pyspark.ml.feature import StringIndexer\n",
        "\n",
        "# Crear una sesión de Spark\n",
        "spark = SparkSession.builder.appName(\"MovieRecommender\").getOrCreate()\n",
        "\n"
      ],
      "metadata": {
        "id": "kZTQ-bycsLA8"
      },
      "execution_count": null,
      "outputs": []
    },
    {
      "cell_type": "markdown",
      "source": [
        "### Sesión APACHE SPARK"
      ],
      "metadata": {
        "id": "gzTBGGtlMlbg"
      }
    },
    {
      "cell_type": "code",
      "source": [
        "# Crear una sesión de Spark\n",
        "spark = SparkSession.builder.appName(\"Sistema_Recomendacion\").getOrCreate()"
      ],
      "metadata": {
        "id": "4PRyKO9yMyQy"
      },
      "execution_count": null,
      "outputs": []
    },
    {
      "cell_type": "markdown",
      "source": [
        "## Conexion y carga de datos"
      ],
      "metadata": {
        "id": "WpbvUneyMU-G"
      }
    },
    {
      "cell_type": "code",
      "source": [
        "peliculas_df = spark.read.csv(\"/movies.csv\", header=True, inferSchema=True)\n",
        "ratings_df = spark.read.csv(\"/ratings.csv\", header=True, inferSchema=True)\n"
      ],
      "metadata": {
        "id": "dbQtF_80D14p"
      },
      "execution_count": null,
      "outputs": []
    },
    {
      "cell_type": "markdown",
      "source": [
        "## Adaptación Matriz dispersa"
      ],
      "metadata": {
        "id": "heKBk39kTReP"
      }
    },
    {
      "cell_type": "code",
      "source": [
        "# Join rating y movies con movieId\n",
        "ratings_df = ratings_df.join(peliculas_df, \"movieId\")\n",
        "\n",
        "# Seleccionar las columnas deseadas\n",
        "ratings_df = ratings_df.select(\"userId\", \"movieId\", \"rating\", \"title\").withColumnRenamed(\"userId\", \"user\").withColumnRenamed(\"movieId\", \"movie\")"
      ],
      "metadata": {
        "id": "weHzRvsVNWQX"
      },
      "execution_count": null,
      "outputs": []
    },
    {
      "cell_type": "code",
      "source": [
        "ratings_df = ratings_df.withColumn(\"rating\", ratings_df[\"rating\"].cast(\"float\")) # forzamos que rating sea float, generaba error\n",
        "ratings_df = ratings_df.filter(ratings_df[\"user\"].isNotNull() & ratings_df[\"movie\"].isNotNull() & ratings_df[\"rating\"].isNotNull() & ratings_df[\"title\"].isNotNull()) # descartamos valores nulos o inexistentes"
      ],
      "metadata": {
        "id": "5MNJrZKWOy93"
      },
      "execution_count": null,
      "outputs": []
    },
    {
      "cell_type": "code",
      "source": [
        "# Crear StringIndexers para las columnas relevantes\n",
        "train_data, test_data = ratings_df.randomSplit([0.8, 0.2], seed=42)\n",
        "user_indexer = StringIndexer(inputCol=\"user\", outputCol=\"userIndex\")\n",
        "movie_indexer = StringIndexer(inputCol=\"movie\", outputCol=\"movieIndex\")\n",
        "\n",
        "# Aplicar StringIndexers a los datos de ratings\n",
        "indexed_data = user_indexer.fit(train_data).transform(train_data)\n",
        "indexed_data = movie_indexer.fit(indexed_data).transform(indexed_data)\n",
        "\n",
        "als = ALS(userCol=\"userIndex\", itemCol=\"movieIndex\", ratingCol=\"rating\", nonnegative=True)\n",
        "model = als.fit(indexed_data)"
      ],
      "metadata": {
        "id": "_Hm6BaQCBpZF"
      },
      "execution_count": null,
      "outputs": []
    },
    {
      "cell_type": "code",
      "source": [
        "user_indexer = StringIndexer(inputCol=\"user\", outputCol=\"userIndex\")\n",
        "movie_indexer = StringIndexer(inputCol=\"movie\", outputCol=\"movieIndex\")\n",
        "\n",
        "# Fit StringIndexers and transform the data\n",
        "indexed_test_data = user_indexer.fit(test_data).transform(test_data)\n",
        "indexed_test_data = movie_indexer.fit(indexed_test_data).transform(indexed_test_data)"
      ],
      "metadata": {
        "id": "2k5Ts7n1FCKe"
      },
      "execution_count": null,
      "outputs": []
    },
    {
      "cell_type": "markdown",
      "source": [
        "**Paso 7: Evaluar modelo**"
      ],
      "metadata": {
        "id": "00d1ht-wWMQg"
      }
    },
    {
      "cell_type": "code",
      "source": [
        "# Generar predicciones en el conjunto de prueba\n",
        "##predictions = model.transform(indexed_test_data)"
      ],
      "metadata": {
        "id": "P0L1vKyZVY4Q"
      },
      "execution_count": null,
      "outputs": []
    },
    {
      "cell_type": "code",
      "source": [
        "# Evaluar el modelo utilizando una métrica de evaluación (por ejemplo, RMSE)\n",
        "##evaluator = RegressionEvaluator(metricName=\"rmse\", labelCol=\"rating\", predictionCol=\"prediction\")\n",
        "##rmse = evaluator.evaluate(predictions)\n",
        "##print(\"RMSE: %.2f\" % rmse)"
      ],
      "metadata": {
        "id": "sCLtyZZQVO4I"
      },
      "execution_count": null,
      "outputs": []
    },
    {
      "cell_type": "code",
      "source": [
        "# Generate top 5 recommendations for each user in the test data\n",
        "recommendations = model.recommendForUserSubset(indexed_test_data, 5)"
      ],
      "metadata": {
        "id": "-d6LEgS6vtFk"
      },
      "execution_count": null,
      "outputs": []
    },
    {
      "cell_type": "markdown",
      "source": [
        "Mostrar recomendaciones"
      ],
      "metadata": {
        "id": "kaMDATkvT55H"
      }
    },
    {
      "cell_type": "code",
      "source": [
        "# Show the recommendations\n",
        "recommendations.show(truncate=False)"
      ],
      "metadata": {
        "id": "b1Qq9uhayohN"
      },
      "execution_count": null,
      "outputs": []
    },
    {
      "cell_type": "markdown",
      "source": [
        "**Paso 10: Solicitar id de usuario para recomendarle pelicula**"
      ],
      "metadata": {
        "id": "tVJRvfffT_uX"
      }
    },
    {
      "cell_type": "code",
      "source": [
        "from pyspark.sql.functions import col\n",
        "\n",
        "# Solicitar al usuario que ingrese un número\n",
        "peliculas = input(\"Ingrese numero de usuario: \") # id_to_retrieve\n",
        "\n",
        "filtered_data = indexed_data.filter(col(\"userIndex\") == peliculas)\n",
        "#movie_index = filtered_data.select(\"movie\").collect()[0][0]\n",
        "movie_index = filtered_data.select(\"movie\").collect()[0][0]\n",
        "movie_index2 = filtered_data.select(\"movie\").collect()[1][0]\n",
        "movie_title = (ratings_df.filter(col(\"movie\") == movie_index)).select(\"title\").collect()[0][0]\n",
        "movie_title2 = (ratings_df.filter(col(\"movie\") == movie_index)).select(\"title\").collect()[1][0]\n",
        "# Imprimir la recomendación de película para el usuario\n",
        "print(\"Para el usuario %s, se recomienda la película: %s\" % (peliculas, movie_title))"
      ],
      "metadata": {
        "id": "ioAF9AxXFlIW"
      },
      "execution_count": null,
      "outputs": []
    },
    {
      "cell_type": "code",
      "source": [
        "train_data, test_data = ratings_df.randomSplit([0.8, 0.2], seed=42)"
      ],
      "metadata": {
        "id": "-jAEjg6nRfsX"
      },
      "execution_count": null,
      "outputs": []
    }
  ]
}