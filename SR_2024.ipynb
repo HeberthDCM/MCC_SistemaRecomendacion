{
 "cells": [
  {
   "cell_type": "markdown",
   "metadata": {},
   "source": [
    "#Kernel Python 3.12"
   ]
  },
  {
   "cell_type": "markdown",
   "metadata": {},
   "source": [
    "## Librerias a usar"
   ]
  },
  {
   "cell_type": "code",
   "execution_count": 295,
   "metadata": {},
   "outputs": [],
   "source": [
    "import numpy as np\n",
    "import pandas as pd\n",
    "import matplotlib.pyplot as plt\n",
    "import seaborn as sns\n",
    "from scipy.sparse import csr_matrix\n",
    "from sklearn.neighbors import NearestNeighbors\n",
    "\n"
   ]
  },
  {
   "cell_type": "markdown",
   "metadata": {},
   "source": [
    "## Conexion y carga de datos"
   ]
  },
  {
   "cell_type": "code",
   "execution_count": 296,
   "metadata": {},
   "outputs": [],
   "source": [
    "#Conexion para pruebas rápidas\n",
    "ratings_df = pd.read_csv('https://s3-us-west-2.amazonaws.com/recommender-tutorial/ratings.csv')\n",
    "peliculas_df = pd.read_csv('https://s3-us-west-2.amazonaws.com/recommender-tutorial/movies.csv')"
   ]
  },
  {
   "cell_type": "code",
   "execution_count": 297,
   "metadata": {},
   "outputs": [
    {
     "data": {
      "text/plain": [
       "title\n",
       "Forrest Gump (1994)                 329\n",
       "Shawshank Redemption, The (1994)    317\n",
       "Pulp Fiction (1994)                 307\n",
       "Silence of the Lambs, The (1991)    279\n",
       "Matrix, The (1999)                  278\n",
       "                                   ... \n",
       "Tyrannosaur (2011)                    1\n",
       "This Must Be the Place (2011)         1\n",
       "Miss Representation (2011)            1\n",
       "Starsuckers (2009)                    1\n",
       "Girl Walks Into a Bar (2011)          1\n",
       "Name: count, Length: 9619, dtype: int64"
      ]
     },
     "execution_count": 297,
     "metadata": {},
     "output_type": "execute_result"
    }
   ],
   "source": [
    "nombrePeliculas = dict(zip(peliculas_df['movieId'], peliculas_df['title']))\n",
    "\n",
    "movie_ratings = ratings_df.merge(peliculas_df, on='movieId')\n",
    "movie_ratings['title'].value_counts()[0:-100]"
   ]
  },
  {
   "cell_type": "markdown",
   "metadata": {},
   "source": [
    "## Matriz dispersa"
   ]
  },
  {
   "cell_type": "code",
   "execution_count": 298,
   "metadata": {},
   "outputs": [],
   "source": [
    "def MatrizDispersa(df):\n",
    "    usuarios = df['userId'].nunique()\n",
    "    peliculas = df['movieId'].nunique()\n",
    "\n",
    "    mapUsuario = dict(zip(np.unique(df[\"userId\"]), list(range(usuarios))))\n",
    "    mapPelicula = dict(zip(np.unique(df[\"movieId\"]), list(range(peliculas))))\n",
    "    \n",
    "    mapUsuarioTranspuesta = dict(zip(list(range(usuarios)), np.unique(df[\"userId\"])))\n",
    "    mapPeliculaTranspuesta = dict(zip(list(range(peliculas)), np.unique(df[\"movieId\"])))\n",
    "    \n",
    "    indiceUsuario = [mapUsuario[i] for i in df['userId']]\n",
    "    indicePelicula = [mapPelicula[i] for i in df['movieId']]\n",
    "\n",
    "    Matriz = csr_matrix((df[\"rating\"], (indiceUsuario,indicePelicula)), shape=(usuarios,peliculas))\n",
    "    \n",
    "    return Matriz, mapUsuario, mapPelicula, mapUsuarioTranspuesta, mapPeliculaTranspuesta\n",
    "\n",
    "Matriz, mapUsuario, mapPelicula, mapUsuarioTranspuesta, mapPeliculaTranspuesta = MatrizDispersa(ratings)"
   ]
  },
  {
   "cell_type": "code",
   "execution_count": 299,
   "metadata": {},
   "outputs": [],
   "source": [
    "def KNNPelicula(indicePelicula, Matriz, mapPelicula, mapPeliculaTranspuesta, k, metric='cosine'):\n",
    "    Matriz = Matriz.T\n",
    "    indiceVecinos = []\n",
    "    \n",
    "    indPelicula = mapPelicula[indicePelicula]\n",
    "    listaPelicula = Matriz[indPelicula]\n",
    "    if isinstance(listaPelicula, (np.ndarray)):\n",
    "        listaPelicula = listaPelicula.reshape(1,-1)\n",
    "    # use k+1 since kNN output includes the movieId of interest\n",
    "    kNN = NearestNeighbors(n_neighbors=k+1, algorithm=\"brute\", metric = metric)\n",
    "    kNN.fit(Matriz)\n",
    "    vecino = kNN.kneighbors(listaPelicula, return_distance=False) #False\n",
    "    for i in range(0,k):\n",
    "        n = vecino.item(i)\n",
    "        indiceVecinos.append(mapPeliculaTranspuesta[n])\n",
    "    indiceVecinos.pop(0)\n",
    "    return indiceVecinos"
   ]
  },
  {
   "cell_type": "code",
   "execution_count": 300,
   "metadata": {},
   "outputs": [
    {
     "data": {
      "text/plain": [
       "[3114, 480, 780, 260, 356, 364, 1210, 648, 1265]"
      ]
     },
     "execution_count": 300,
     "metadata": {},
     "output_type": "execute_result"
    }
   ],
   "source": [
    "pelicula = int(input(\"Ingrese numero de usuario\"))\n",
    "peliculasSugeridas = KNNPelicula(pelicula, Matriz, mapPelicula, mapPeliculaTranspuesta, k=10)\n",
    "peliculasSugeridas"
   ]
  },
  {
   "cell_type": "markdown",
   "metadata": {},
   "source": [
    "## Mostrar recomendaciones"
   ]
  },
  {
   "cell_type": "code",
   "execution_count": 301,
   "metadata": {},
   "outputs": [
    {
     "name": "stdout",
     "output_type": "stream",
     "text": [
      "Segun la pelicula que te gustó Toy Story (1995): \n",
      " te sugerimos las siguientes\n",
      "Toy Story 2 (1999)\n",
      "Jurassic Park (1993)\n",
      "Independence Day (a.k.a. ID4) (1996)\n",
      "Star Wars: Episode IV - A New Hope (1977)\n",
      "Forrest Gump (1994)\n",
      "Lion King, The (1994)\n",
      "Star Wars: Episode VI - Return of the Jedi (1983)\n",
      "Mission: Impossible (1996)\n",
      "Groundhog Day (1993)\n"
     ]
    }
   ],
   "source": [
    "print(f\"Segun la pelicula que te gustó {nombrePeliculas[pelicula]}: \\n te sugerimos las siguientes\")\n",
    "for i in peliculasSugeridas:\n",
    "    print(nombrePeliculas[i])"
   ]
  }
 ],
 "metadata": {
  "kernelspec": {
   "display_name": "Python 3",
   "language": "python",
   "name": "python3"
  },
  "language_info": {
   "codemirror_mode": {
    "name": "ipython",
    "version": 3
   },
   "file_extension": ".py",
   "mimetype": "text/x-python",
   "name": "python",
   "nbconvert_exporter": "python",
   "pygments_lexer": "ipython3",
   "version": "3.12.1"
  }
 },
 "nbformat": 4,
 "nbformat_minor": 2
}
